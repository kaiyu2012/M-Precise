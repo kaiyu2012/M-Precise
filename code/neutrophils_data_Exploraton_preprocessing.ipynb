{
 "cells": [
  {
   "cell_type": "markdown",
   "id": "973dc4c0",
   "metadata": {},
   "source": [
    " # The objective of this notebook is to Process the raw data prepared by joining the 'neutrophils' and 'Clinical Data'. Further perform exploration of the processed data for imbalanced Labels\n"
   ]
  },
  {
   "cell_type": "code",
   "execution_count": 2,
   "id": "1b4a99c3",
   "metadata": {},
   "outputs": [],
   "source": [
    "import pandas as pd\n",
    "import numpy as np\n"
   ]
  },
  {
   "cell_type": "code",
   "execution_count": 3,
   "id": "f2eee944",
   "metadata": {},
   "outputs": [],
   "source": [
    "neu_data=pd.read_csv('datasets/rawSRDV3_neutrophils.csv')"
   ]
  },
  {
   "cell_type": "code",
   "execution_count": 8,
   "id": "2e6b924b",
   "metadata": {},
   "outputs": [],
   "source": [
    "#Feature Engieering: Dropping columns on no significance\n",
    "drop_col_list=[\n",
    "       'Date of sample collection relative to diagnosis',\n",
    "       'FAB subtype (stages)', 'Unnamed: 8', 'Unnamed: 9', 'Abbreviation',\n",
    "       'Classification/ category https://seer.cancer.gov/seertools/seerrx/',\n",
    "       'Subcategory', 'Line of therapy/ FDA approved for AML and / or CML',\n",
    "        'Single-cell type', 'Cell counts',\n",
    "       'Post-treatment samples collection information', 'Transplantation',\n",
    "       ]\n",
    "neu_data= neu_data.drop(drop_col_list, axis=1)"
   ]
  },
  {
   "cell_type": "code",
   "execution_count": 15,
   "id": "025e203e",
   "metadata": {},
   "outputs": [
    {
     "data": {
      "text/plain": [
       "genes                  0.0\n",
       "p_val                  0.0\n",
       "avg_logFC              0.0\n",
       "Sample ID              0.0\n",
       "outcome                0.0\n",
       "Age                    0.0\n",
       "Age group              0.0\n",
       "Gender                 0.0\n",
       "FAB subtype            0.0\n",
       "Mutation               0.0\n",
       "Therapeutic regimen    0.0\n",
       "Treatment group        0.0\n",
       "mutations              0.0\n",
       "mutations_order        0.0\n",
       "dtype: float64"
      ]
     },
     "execution_count": 15,
     "metadata": {},
     "output_type": "execute_result"
    }
   ],
   "source": [
    "#Identifying the amount of missing values in each column for EDA\n",
    "((neu_data.isnull() | neu_data.isna()).sum() * 100 / neu_data.index.size).round(2)"
   ]
  },
  {
   "cell_type": "code",
   "execution_count": 17,
   "id": "dae030c6",
   "metadata": {},
   "outputs": [
    {
     "data": {
      "text/plain": [
       "genes                  category\n",
       "p_val                   float64\n",
       "avg_logFC               float64\n",
       "Sample ID              category\n",
       "outcome                category\n",
       "Age                       int64\n",
       "Age group              category\n",
       "Gender                 category\n",
       "FAB subtype            category\n",
       "Mutation               category\n",
       "Therapeutic regimen    category\n",
       "Treatment group        category\n",
       "mutations              category\n",
       "mutations_order         float64\n",
       "dtype: object"
      ]
     },
     "execution_count": 17,
     "metadata": {},
     "output_type": "execute_result"
    }
   ],
   "source": [
    "neu_data.dtypes"
   ]
  },
  {
   "cell_type": "code",
   "execution_count": null,
   "id": "893d9e80",
   "metadata": {},
   "outputs": [],
   "source": []
  },
  {
   "cell_type": "code",
   "execution_count": 14,
   "id": "77ed6127",
   "metadata": {},
   "outputs": [],
   "source": [
    "neu_data.dropna(inplace=True)"
   ]
  },
  {
   "cell_type": "code",
   "execution_count": 16,
   "id": "94e5121c",
   "metadata": {},
   "outputs": [],
   "source": [
    "for col in neu_data.columns:\n",
    "    if neu_data[col].dtypes == 'object':\n",
    "        neu_data[col] = neu_data[col].astype('category')"
   ]
  },
  {
   "cell_type": "code",
   "execution_count": 18,
   "id": "a78616c0",
   "metadata": {},
   "outputs": [
    {
     "data": {
      "text/plain": [
       "<AxesSubplot:>"
      ]
     },
     "execution_count": 18,
     "metadata": {},
     "output_type": "execute_result"
    },
    {
     "data": {
      "image/png": "[encoded data removed]",
      "text/plain": [
       "<Figure size 432x288 with 1 Axes>"
      ]
     },
     "metadata": {
      "needs_background": "light"
     },
     "output_type": "display_data"
    }
   ],
   "source": [
    "neu_data['outcome'].value_counts().sort_values().plot(kind = 'barh')"
   ]
  },
  {
   "cell_type": "code",
   "execution_count": 19,
   "id": "560c13f7",
   "metadata": {},
   "outputs": [
    {
     "data": {
      "text/plain": [
       "<AxesSubplot:>"
      ]
     },
     "execution_count": 19,
     "metadata": {},
     "output_type": "execute_result"
    },
    {
     "data": {
      "image/png": "[encoded data removed]",
      "text/plain": [
       "<Figure size 432x288 with 1 Axes>"
      ]
     },
     "metadata": {
      "needs_background": "light"
     },
     "output_type": "display_data"
    }
   ],
   "source": [
    "neu_data['Therapeutic regimen'].value_counts().sort_values().plot(kind = 'barh')"
   ]
  },
  {
   "cell_type": "code",
   "execution_count": 20,
   "id": "be5c3340",
   "metadata": {},
   "outputs": [
    {
     "data": {
      "text/plain": [
       "<AxesSubplot:>"
      ]
     },
     "execution_count": 20,
     "metadata": {},
     "output_type": "execute_result"
    },
    {
     "data": {
      "image/png": "[encoded data removed]",
      "text/plain": [
       "<Figure size 432x288 with 1 Axes>"
      ]
     },
     "metadata": {
      "needs_background": "light"
     },
     "output_type": "display_data"
    }
   ],
   "source": [
    "neu_data['Treatment group'].value_counts().sort_values().plot(kind = 'barh')"
   ]
  },
  {
   "cell_type": "code",
   "execution_count": 27,
   "id": "6e9b795f",
   "metadata": {},
   "outputs": [],
   "source": [
    "#Saving the processed data for neutrphils\n",
    "neu_data.to_csv('datasets/ProcessedSRDV3_neutrophils.csv', index=False)"
   ]
  },
  {
   "cell_type": "code",
   "execution_count": null,
   "id": "27c3ef46",
   "metadata": {},
   "outputs": [],
   "source": []
  }
 ],
 "metadata": {
  "kernelspec": {
   "display_name": "Python 3 (ipykernel)",
   "language": "python",
   "name": "python3"
  },
  "language_info": {
   "codemirror_mode": {
    "name": "ipython",
    "version": 3
   },
   "file_extension": ".py",
   "mimetype": "text/x-python",
   "name": "python",
   "nbconvert_exporter": "python",
   "pygments_lexer": "ipython3",
   "version": "3.8.10"
  }
 },
 "nbformat": 4,
 "nbformat_minor": 5
}
